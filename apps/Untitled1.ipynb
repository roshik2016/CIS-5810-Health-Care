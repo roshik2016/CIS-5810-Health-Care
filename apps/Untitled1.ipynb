{
 "cells": [
  {
   "cell_type": "code",
   "execution_count": 43,
   "metadata": {
    "collapsed": true
   },
   "outputs": [],
   "source": [
    "import xlrd\n",
    "import dash\n",
    "import dash_core_components as dcc\n",
    "import dash_html_components as html\n",
    "import pandas as pd\n",
    "import plotly.graph_objs as go\n",
    "import plotly as py\n",
    "import numpy as np\n",
    "import folium\n",
    "from folium import plugins\n",
    "from IPython.display import HTML, display\n",
    "from folium.plugins import HeatMap\n"
   ]
  },
  {
   "cell_type": "code",
   "execution_count": 92,
   "metadata": {},
   "outputs": [
    {
     "data": {
      "text/html": [
       "<div style=\"width:100%;\"><div style=\"position:relative;width:100%;height:0;padding-bottom:60%;\"><iframe src=\"data:text/html;charset=utf-8;base64,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\" style=\"position:absolute;width:100%;height:100%;left:0;top:0;border:none !important;\" allowfullscreen webkitallowfullscreen mozallowfullscreen></iframe></div></div>"
      ],
      "text/plain": [
       "<folium.folium.Map at 0x22357b124a8>"
      ]
     },
     "execution_count": 92,
     "metadata": {},
     "output_type": "execute_result"
    }
   ],
   "source": [
    "file_location = pd.read_csv(\"./youth_tobacco_analysis.csv\")\n",
    "data = pd.DataFrame(file_location)\n",
    "#print(data['GeoLocation'])\n",
    "data = pd.DataFrame(data.groupby(['GeoLocation'])['Sample_Size'].agg(['sum']))\n",
    "data.to_csv('./question6.csv', sep = ',', encoding='utf-8')\n",
    "data = pd.read_csv('./question6.csv')\n",
    "lat = []\n",
    "lon = []\n",
    "data = data.dropna(subset=['GeoLocation','sum'])\n",
    "data['GeoLocation'] = data['GeoLocation'].str.strip('()')\n",
    "for row in data['GeoLocation']:\n",
    "    # Try to,\n",
    "    try:\n",
    "        # Split the row by comma and append\n",
    "        # everything before the comma to lat\n",
    "        lat.append(row.split(',')[0])\n",
    "        # Split the row by comma and append\n",
    "        # everything after the comma to lon\n",
    "        lon.append(row.split(',')[1])\n",
    "    # But if you get an error\n",
    "    except:\n",
    "        # append a missing value to lat\n",
    "        lat.append(np.NaN)\n",
    "        # append a missing value to lon\n",
    "        lon.append(np.NaN)\n",
    "\n",
    "\n",
    "# Create two new columns from lat and lon\n",
    "data['latitude'] = lat\n",
    "data['latitude'] = data['latitude'].astype(float)\n",
    "data['longitude'] = lon\n",
    "data['longitude'] = data['longitude'].astype(float)\n",
    "max_amount = data['sum'].max()\n",
    "values = []\n",
    "for i in data['sum']:\n",
    "    values.append(i)\n",
    "\n",
    "url_base = 'http://server.arcgisonline.com/ArcGIS/rest/services/'\n",
    "service = 'NatGeo_World_Map/MapServer/tile/{z}/{y}/{x}'\n",
    "tileset = url_base + service\n",
    "colors = {'A' : 'red', 'B' : 'blue'}\n",
    "\n",
    "hmap = folium.Map(location=[data.latitude[10], data.longitude[10]], zoom_start=3,control_scale = True, tiles=tileset, attr='USGS style' )\n",
    "\n",
    "hm_wide = HeatMap( list(zip(data.latitude, data.longitude, values)), \n",
    "                   min_opacity=0.2,\n",
    "                   max_val=max_amount,\n",
    "                   radius=17, blur=10, \n",
    "                   max_zoom=1, \n",
    "                 )\n",
    "\n",
    "hmap.add_child(hm_wide)"
   ]
  },
  {
   "cell_type": "code",
   "execution_count": null,
   "metadata": {
    "collapsed": true
   },
   "outputs": [],
   "source": []
  }
 ],
 "metadata": {
  "kernelspec": {
   "display_name": "Python 3",
   "language": "python",
   "name": "python3"
  },
  "language_info": {
   "codemirror_mode": {
    "name": "ipython",
    "version": 3
   },
   "file_extension": ".py",
   "mimetype": "text/x-python",
   "name": "python",
   "nbconvert_exporter": "python",
   "pygments_lexer": "ipython3",
   "version": "3.6.1"
  }
 },
 "nbformat": 4,
 "nbformat_minor": 2
}
